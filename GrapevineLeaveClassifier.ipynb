{
 "cells": [
  {
   "cell_type": "markdown",
   "id": "541df7d3",
   "metadata": {
    "papermill": {
     "duration": 0.008549,
     "end_time": "2024-03-31T19:58:10.977942",
     "exception": false,
     "start_time": "2024-03-31T19:58:10.969393",
     "status": "completed"
    },
    "tags": []
   },
   "source": [
    "# ML Project (Grapevine Dataset Analysis)"
   ]
  },
  {
   "cell_type": "markdown",
   "id": "14bd62c3",
   "metadata": {
    "papermill": {
     "duration": 0.007359,
     "end_time": "2024-03-31T19:58:10.993393",
     "exception": false,
     "start_time": "2024-03-31T19:58:10.986034",
     "status": "completed"
    },
    "tags": []
   },
   "source": [
    "**Step 1**: Importing the required libraries"
   ]
  },
  {
   "cell_type": "markdown",
   "id": "d64045fb",
   "metadata": {
    "papermill": {
     "duration": 0.007733,
     "end_time": "2024-03-31T19:58:11.008934",
     "exception": false,
     "start_time": "2024-03-31T19:58:11.001201",
     "status": "completed"
    },
    "tags": []
   },
   "source": [
    "**cv2** : image processing library ,\n",
    "        **SVC** : support vector machines , \n",
    "        **GaussianNB** : Naive bais ,\n",
    "        **Random Forest CLassifier** : random forest "
   ]
  },
  {
   "cell_type": "code",
   "execution_count": 1,
   "id": "b5011499",
   "metadata": {
    "execution": {
     "iopub.execute_input": "2024-03-31T19:58:11.026874Z",
     "iopub.status.busy": "2024-03-31T19:58:11.026423Z",
     "iopub.status.idle": "2024-03-31T19:58:14.592720Z",
     "shell.execute_reply": "2024-03-31T19:58:14.591594Z"
    },
    "papermill": {
     "duration": 3.579356,
     "end_time": "2024-03-31T19:58:14.595973",
     "exception": false,
     "start_time": "2024-03-31T19:58:11.016617",
     "status": "completed"
    },
    "tags": []
   },
   "outputs": [],
   "source": [
    "import cv2\n",
    "import os\n",
    "import numpy as np\n",
    "import seaborn as sns\n",
    "from sklearn.svm import SVC\n",
    "from sklearn.naive_bayes import GaussianNB\n",
    "from sklearn.ensemble import RandomForestClassifier\n",
    "from sklearn.model_selection import train_test_split, GridSearchCV\n",
    "from sklearn.metrics import accuracy_score, classification_report,confusion_matrix,roc_curve\n",
    "from sklearn.preprocessing import StandardScaler \n",
    "import matplotlib.pyplot as plt\n",
    "\n",
    "\n",
    "# Assuming the dataset directory is at \"/path/to/your/dataset\" (replace with actual path)\n",
    "dataset_dir = \"/kaggle/input/grapevine-image-dataset/Grapevine_Leaves_Image_Dataset\""
   ]
  },
  {
   "cell_type": "markdown",
   "id": "8748dbd4",
   "metadata": {
    "papermill": {
     "duration": 0.007146,
     "end_time": "2024-03-31T19:58:14.610693",
     "exception": false,
     "start_time": "2024-03-31T19:58:14.603547",
     "status": "completed"
    },
    "tags": []
   },
   "source": [
    "**Step 2**: Defining a function to preprocess and extract features form the images"
   ]
  },
  {
   "cell_type": "markdown",
   "id": "9de49e6f",
   "metadata": {
    "papermill": {
     "duration": 0.007223,
     "end_time": "2024-03-31T19:58:14.625435",
     "exception": false,
     "start_time": "2024-03-31T19:58:14.618212",
     "status": "completed"
    },
    "tags": []
   },
   "source": [
    "The **cvtcolor** funtion convert the images from BGR color space to HSR color space beacuse they have better feature segmentaion and colour variations which make it easier to classify the image.\n",
    "The **split** function splits the image colors into indivisual channels.\n",
    "The **calcHist** function then calculate the histogram for each channel followed by conactenating the histograms to get a single vector value for classification."
   ]
  },
  {
   "cell_type": "code",
   "execution_count": 2,
   "id": "50506077",
   "metadata": {
    "execution": {
     "iopub.execute_input": "2024-03-31T19:58:14.645558Z",
     "iopub.status.busy": "2024-03-31T19:58:14.643835Z",
     "iopub.status.idle": "2024-03-31T19:58:14.651757Z",
     "shell.execute_reply": "2024-03-31T19:58:14.650542Z"
    },
    "papermill": {
     "duration": 0.020768,
     "end_time": "2024-03-31T19:58:14.654766",
     "exception": false,
     "start_time": "2024-03-31T19:58:14.633998",
     "status": "completed"
    },
    "tags": []
   },
   "outputs": [],
   "source": [
    "def preprocess_and_extract_features(img):\n",
    "    hsv_img = cv2.cvtColor(img, cv2.COLOR_BGR2HSV)\n",
    "    hist_features = []\n",
    "    for channel in cv2.split(hsv_img):\n",
    "        hist_features.extend(cv2.calcHist([channel], [0], None, [256], [0, 256]))\n",
    "    return np.concatenate(hist_features)"
   ]
  },
  {
   "cell_type": "markdown",
   "id": "70850bc6",
   "metadata": {
    "papermill": {
     "duration": 0.007107,
     "end_time": "2024-03-31T19:58:14.669558",
     "exception": false,
     "start_time": "2024-03-31T19:58:14.662451",
     "status": "completed"
    },
    "tags": []
   },
   "source": [
    "**Step 3**: Converting the file paths into a dataset and then appending the feature names and the image paths to X and Y in the form of a list."
   ]
  },
  {
   "cell_type": "code",
   "execution_count": 3,
   "id": "a08d3ef2",
   "metadata": {
    "execution": {
     "iopub.execute_input": "2024-03-31T19:58:14.687129Z",
     "iopub.status.busy": "2024-03-31T19:58:14.686342Z",
     "iopub.status.idle": "2024-03-31T19:58:24.647016Z",
     "shell.execute_reply": "2024-03-31T19:58:24.645650Z"
    },
    "papermill": {
     "duration": 9.973057,
     "end_time": "2024-03-31T19:58:24.650107",
     "exception": false,
     "start_time": "2024-03-31T19:58:14.677050",
     "status": "completed"
    },
    "tags": []
   },
   "outputs": [],
   "source": [
    "X = []\n",
    "y = []\n",
    "\n",
    "# Iterate through each category in the dataset directory\n",
    "categories = os.listdir(dataset_dir)\n",
    "for category in categories:\n",
    "    category_dir = os.path.join(dataset_dir, category)\n",
    "\n",
    "    # Check if category_dir is a directory (skip non-directory files)\n",
    "    if os.path.isdir(category_dir):\n",
    "        for filename in os.listdir(category_dir):\n",
    "            img_path = os.path.join(category_dir, filename)\n",
    "\n",
    "            # Read image in BGR format (default for OpenCV)\n",
    "            img = cv2.imread(img_path)\n",
    "\n",
    "            features = preprocess_and_extract_features(img)\n",
    "\n",
    "            # Append features and corresponding label (category name)\n",
    "            X.append(features)\n",
    "            y.append(category)"
   ]
  },
  {
   "cell_type": "markdown",
   "id": "89d31a07",
   "metadata": {
    "papermill": {
     "duration": 0.007335,
     "end_time": "2024-03-31T19:58:24.665523",
     "exception": false,
     "start_time": "2024-03-31T19:58:24.658188",
     "status": "completed"
    },
    "tags": []
   },
   "source": [
    "**Step 4:** Convert lists to NumPy arrays for efficient processing followed by splitting the training and testing data\n"
   ]
  },
  {
   "cell_type": "code",
   "execution_count": 4,
   "id": "1cfe2c0b",
   "metadata": {
    "execution": {
     "iopub.execute_input": "2024-03-31T19:58:24.682688Z",
     "iopub.status.busy": "2024-03-31T19:58:24.682218Z",
     "iopub.status.idle": "2024-03-31T19:58:24.693935Z",
     "shell.execute_reply": "2024-03-31T19:58:24.692474Z"
    },
    "papermill": {
     "duration": 0.024115,
     "end_time": "2024-03-31T19:58:24.697097",
     "exception": false,
     "start_time": "2024-03-31T19:58:24.672982",
     "status": "completed"
    },
    "tags": []
   },
   "outputs": [],
   "source": [
    "X = np.array(X)\n",
    "y = np.array(y)\n",
    "\n",
    "X_train, X_test, y_train, y_test = train_test_split(X, y, test_size=0.2, random_state=30)"
   ]
  },
  {
   "cell_type": "markdown",
   "id": "19e52643",
   "metadata": {
    "papermill": {
     "duration": 0.007903,
     "end_time": "2024-03-31T19:58:24.714358",
     "exception": false,
     "start_time": "2024-03-31T19:58:24.706455",
     "status": "completed"
    },
    "tags": []
   },
   "source": [
    "**Step 5**: Running the Naive bias algorithim"
   ]
  },
  {
   "cell_type": "code",
   "execution_count": 5,
   "id": "eb495842",
   "metadata": {
    "execution": {
     "iopub.execute_input": "2024-03-31T19:58:24.732548Z",
     "iopub.status.busy": "2024-03-31T19:58:24.732058Z",
     "iopub.status.idle": "2024-03-31T19:58:24.761743Z",
     "shell.execute_reply": "2024-03-31T19:58:24.760494Z"
    },
    "papermill": {
     "duration": 0.044043,
     "end_time": "2024-03-31T19:58:24.766380",
     "exception": false,
     "start_time": "2024-03-31T19:58:24.722337",
     "status": "completed"
    },
    "tags": []
   },
   "outputs": [
    {
     "name": "stdout",
     "output_type": "stream",
     "text": [
      "Accuracy: 62.0 %\n",
      "              precision    recall  f1-score   support\n",
      "\n",
      "          Ak       0.48      0.88      0.62        17\n",
      "   Ala_Idris       0.90      0.75      0.82        24\n",
      "     Buzgulu       0.89      0.44      0.59        18\n",
      "      Dimnit       0.47      0.45      0.46        20\n",
      "       Nazli       0.57      0.57      0.57        21\n",
      "\n",
      "    accuracy                           0.62       100\n",
      "   macro avg       0.66      0.62      0.61       100\n",
      "weighted avg       0.67      0.62      0.62       100\n",
      "\n"
     ]
    }
   ],
   "source": [
    "naive_bayes_classifier = GaussianNB()\n",
    "naive_bayes_classifier.fit(X_train, y_train)\n",
    "\n",
    "y_pred = naive_bayes_classifier.predict(X_test)\n",
    "\n",
    "accuracy = accuracy_score(y_test, y_pred)\n",
    "print(\"Accuracy:\", accuracy*100,\"%\")\n",
    "print(classification_report(y_test, y_pred))"
   ]
  },
  {
   "cell_type": "code",
   "execution_count": 6,
   "id": "0cffec52",
   "metadata": {
    "execution": {
     "iopub.execute_input": "2024-03-31T19:58:24.785097Z",
     "iopub.status.busy": "2024-03-31T19:58:24.784283Z",
     "iopub.status.idle": "2024-03-31T19:58:25.219137Z",
     "shell.execute_reply": "2024-03-31T19:58:25.217885Z"
    },
    "papermill": {
     "duration": 0.447983,
     "end_time": "2024-03-31T19:58:25.222193",
     "exception": false,
     "start_time": "2024-03-31T19:58:24.774210",
     "status": "completed"
    },
    "tags": []
   },
   "outputs": [
    {
     "data": {
      "image/png": "[encoded data removed]",
      "text/plain": [
       "<Figure size 800x600 with 2 Axes>"
      ]
     },
     "metadata": {},
     "output_type": "display_data"
    }
   ],
   "source": [
    "conf_matrix = confusion_matrix(y_test, y_pred)\n",
    "\n",
    "plt.figure(figsize=(8, 6))\n",
    "sns.heatmap(conf_matrix, annot=True, fmt='d', cmap='Blues')\n",
    "plt.title('Confusion Matrix')\n",
    "plt.xlabel('Predicted Label')\n",
    "plt.ylabel('True Label')\n",
    "plt.show()\n"
   ]
  },
  {
   "cell_type": "markdown",
   "id": "f4dc3856",
   "metadata": {
    "papermill": {
     "duration": 0.00818,
     "end_time": "2024-03-31T19:58:25.239493",
     "exception": false,
     "start_time": "2024-03-31T19:58:25.231313",
     "status": "completed"
    },
    "tags": []
   },
   "source": [
    "**Hyperparameter Tuning**  optimizes model performance by finding the best settings that balance complexity and generalization, mitigating issues like overfitting and underfitting, ultimately enhancing model accuracy and robustness. "
   ]
  },
  {
   "cell_type": "code",
   "execution_count": 7,
   "id": "e9a9cf47",
   "metadata": {
    "execution": {
     "iopub.execute_input": "2024-03-31T19:58:25.258878Z",
     "iopub.status.busy": "2024-03-31T19:58:25.257896Z",
     "iopub.status.idle": "2024-03-31T19:58:25.263746Z",
     "shell.execute_reply": "2024-03-31T19:58:25.262812Z"
    },
    "papermill": {
     "duration": 0.018276,
     "end_time": "2024-03-31T19:58:25.266026",
     "exception": false,
     "start_time": "2024-03-31T19:58:25.247750",
     "status": "completed"
    },
    "tags": []
   },
   "outputs": [],
   "source": [
    "param_grid = {\n",
    "    'kernel': ['linear', 'rbf'],\n",
    "    'C': [0.1, 1, 10],\n",
    "    'gamma': [0.001, 0.01, 0.1]\n",
    "}"
   ]
  },
  {
   "cell_type": "markdown",
   "id": "2bdb69af",
   "metadata": {
    "papermill": {
     "duration": 0.007539,
     "end_time": "2024-03-31T19:58:25.281865",
     "exception": false,
     "start_time": "2024-03-31T19:58:25.274326",
     "status": "completed"
    },
    "tags": []
   },
   "source": [
    "**Step 6**: Running the support vector machine algorithim"
   ]
  },
  {
   "cell_type": "code",
   "execution_count": 8,
   "id": "dcfd5a5f",
   "metadata": {
    "execution": {
     "iopub.execute_input": "2024-03-31T19:58:25.300344Z",
     "iopub.status.busy": "2024-03-31T19:58:25.299529Z",
     "iopub.status.idle": "2024-03-31T19:59:19.267999Z",
     "shell.execute_reply": "2024-03-31T19:59:19.266523Z"
    },
    "papermill": {
     "duration": 53.990892,
     "end_time": "2024-03-31T19:59:19.280516",
     "exception": false,
     "start_time": "2024-03-31T19:58:25.289624",
     "status": "completed"
    },
    "tags": []
   },
   "outputs": [
    {
     "name": "stdout",
     "output_type": "stream",
     "text": [
      "Accuracy: 80.0 %\n",
      "              precision    recall  f1-score   support\n",
      "\n",
      "          Ak       0.79      0.88      0.83        17\n",
      "   Ala_Idris       0.74      0.83      0.78        24\n",
      "     Buzgulu       0.88      0.83      0.86        18\n",
      "      Dimnit       0.76      0.65      0.70        20\n",
      "       Nazli       0.85      0.81      0.83        21\n",
      "\n",
      "    accuracy                           0.80       100\n",
      "   macro avg       0.81      0.80      0.80       100\n",
      "weighted avg       0.80      0.80      0.80       100\n",
      "\n"
     ]
    }
   ],
   "source": [
    "svm_classifier = SVC(random_state=30)\n",
    "grid_search = GridSearchCV(svm_classifier, param_grid, cv=5, scoring='accuracy')\n",
    "grid_search.fit(X_train, y_train)\n",
    "\n",
    "# Get the best model from the grid search\n",
    "best_model = grid_search.best_estimator_\n",
    "\n",
    "y_pred = best_model.predict(X_test)\n",
    "\n",
    "accuracy = accuracy_score(y_test, y_pred)\n",
    "print(\"Accuracy:\", accuracy*100,\"%\")\n",
    "print(classification_report(y_test, y_pred))"
   ]
  },
  {
   "cell_type": "code",
   "execution_count": 9,
   "id": "187f0658",
   "metadata": {
    "execution": {
     "iopub.execute_input": "2024-03-31T19:59:19.300770Z",
     "iopub.status.busy": "2024-03-31T19:59:19.299849Z",
     "iopub.status.idle": "2024-03-31T19:59:19.735638Z",
     "shell.execute_reply": "2024-03-31T19:59:19.734203Z"
    },
    "papermill": {
     "duration": 0.450129,
     "end_time": "2024-03-31T19:59:19.739133",
     "exception": false,
     "start_time": "2024-03-31T19:59:19.289004",
     "status": "completed"
    },
    "tags": []
   },
   "outputs": [
    {
     "data": {
      "image/png": "[encoded data removed]",
      "text/plain": [
       "<Figure size 800x600 with 2 Axes>"
      ]
     },
     "metadata": {},
     "output_type": "display_data"
    }
   ],
   "source": [
    "conf_matrix = confusion_matrix(y_test, y_pred)\n",
    "\n",
    "plt.figure(figsize=(8, 6))\n",
    "sns.heatmap(conf_matrix, annot=True, fmt='d', cmap='Blues')\n",
    "plt.title('Confusion Matrix')\n",
    "plt.xlabel('Predicted Label')\n",
    "plt.ylabel('True Label')\n",
    "plt.show()"
   ]
  },
  {
   "cell_type": "markdown",
   "id": "dd97a2b5",
   "metadata": {
    "papermill": {
     "duration": 0.00883,
     "end_time": "2024-03-31T19:59:19.757193",
     "exception": false,
     "start_time": "2024-03-31T19:59:19.748363",
     "status": "completed"
    },
    "tags": []
   },
   "source": [
    "**Step 7**: Running the Random Forest Algorithim"
   ]
  },
  {
   "cell_type": "code",
   "execution_count": 10,
   "id": "ba7d3049",
   "metadata": {
    "execution": {
     "iopub.execute_input": "2024-03-31T19:59:19.779021Z",
     "iopub.status.busy": "2024-03-31T19:59:19.777568Z",
     "iopub.status.idle": "2024-03-31T19:59:20.327939Z",
     "shell.execute_reply": "2024-03-31T19:59:20.326506Z"
    },
    "papermill": {
     "duration": 0.564318,
     "end_time": "2024-03-31T19:59:20.330809",
     "exception": false,
     "start_time": "2024-03-31T19:59:19.766491",
     "status": "completed"
    },
    "tags": []
   },
   "outputs": [
    {
     "name": "stdout",
     "output_type": "stream",
     "text": [
      "Accuracy: 84.0 %\n",
      "              precision    recall  f1-score   support\n",
      "\n",
      "          Ak       0.89      0.94      0.91        17\n",
      "   Ala_Idris       0.95      0.83      0.89        24\n",
      "     Buzgulu       0.84      0.89      0.86        18\n",
      "      Dimnit       0.70      0.80      0.74        20\n",
      "       Nazli       0.84      0.76      0.80        21\n",
      "\n",
      "    accuracy                           0.84       100\n",
      "   macro avg       0.84      0.85      0.84       100\n",
      "weighted avg       0.85      0.84      0.84       100\n",
      "\n"
     ]
    }
   ],
   "source": [
    "random_forest_classifier = RandomForestClassifier(n_estimators=100, random_state=30)\n",
    "random_forest_classifier.fit(X_train, y_train)\n",
    "\n",
    "y_pred = random_forest_classifier.predict(X_test)\n",
    "\n",
    "accuracy = accuracy_score(y_test, y_pred)\n",
    "print(\"Accuracy:\", accuracy*100,\"%\")\n",
    "print(classification_report(y_test, y_pred))"
   ]
  },
  {
   "cell_type": "code",
   "execution_count": 11,
   "id": "e3f82c40",
   "metadata": {
    "execution": {
     "iopub.execute_input": "2024-03-31T19:59:20.352259Z",
     "iopub.status.busy": "2024-03-31T19:59:20.351458Z",
     "iopub.status.idle": "2024-03-31T19:59:20.786739Z",
     "shell.execute_reply": "2024-03-31T19:59:20.785309Z"
    },
    "papermill": {
     "duration": 0.450037,
     "end_time": "2024-03-31T19:59:20.790380",
     "exception": false,
     "start_time": "2024-03-31T19:59:20.340343",
     "status": "completed"
    },
    "tags": []
   },
   "outputs": [
    {
     "data": {
      "image/png": "[encoded data removed]",
      "text/plain": [
       "<Figure size 800x600 with 2 Axes>"
      ]
     },
     "metadata": {},
     "output_type": "display_data"
    }
   ],
   "source": [
    "conf_matrix = confusion_matrix(y_test, y_pred)\n",
    "\n",
    "plt.figure(figsize=(8, 6))\n",
    "sns.heatmap(conf_matrix, annot=True, fmt='d', cmap='Blues')\n",
    "plt.title('Confusion Matrix')\n",
    "plt.xlabel('Predicted Label')\n",
    "plt.ylabel('True Label')\n",
    "plt.show()"
   ]
  },
  {
   "cell_type": "markdown",
   "id": "884c8dd3",
   "metadata": {
    "papermill": {
     "duration": 0.009694,
     "end_time": "2024-03-31T19:59:20.810436",
     "exception": false,
     "start_time": "2024-03-31T19:59:20.800742",
     "status": "completed"
    },
    "tags": []
   },
   "source": [
    "**Step 8**: Comparison between the accuracy of the three algorithims"
   ]
  },
  {
   "cell_type": "code",
   "execution_count": 12,
   "id": "8cc48406",
   "metadata": {
    "execution": {
     "iopub.execute_input": "2024-03-31T19:59:20.832630Z",
     "iopub.status.busy": "2024-03-31T19:59:20.832143Z",
     "iopub.status.idle": "2024-03-31T19:59:21.228966Z",
     "shell.execute_reply": "2024-03-31T19:59:21.227614Z"
    },
    "papermill": {
     "duration": 0.412132,
     "end_time": "2024-03-31T19:59:21.232562",
     "exception": false,
     "start_time": "2024-03-31T19:59:20.820430",
     "status": "completed"
    },
    "tags": []
   },
   "outputs": [
    {
     "data": {
      "image/png": "[encoded data removed]",
      "text/plain": [
       "<Figure size 800x600 with 1 Axes>"
      ]
     },
     "metadata": {},
     "output_type": "display_data"
    }
   ],
   "source": [
    "accuracy_svm = 0.80  \n",
    "accuracy_naive_bayes = 0.62\n",
    "accuracy_random_forest = 0.84  \n",
    "\n",
    "classifier_names = ['SVM', 'Naive Bayes', 'Random Forest']\n",
    "accuracy_values = [accuracy_svm, accuracy_naive_bayes, accuracy_random_forest]\n",
    "\n",
    "plt.figure(figsize=(8, 6))\n",
    "plt.bar(classifier_names, accuracy_values, color=['skyblue', 'lightgreen', 'gold'])\n",
    "plt.xlabel('Classifier')\n",
    "plt.ylabel('Accuracy')\n",
    "plt.title('Visual Comparison of Classifier Performance')\n",
    "plt.ylim(0, 1.4)  \n",
    "\n",
    "for i, v in enumerate(accuracy_values):\n",
    "    plt.text(i, v + 0.005, f\"{v:.2f}\", ha='center', va='bottom', fontsize=12)\n",
    "\n",
    "plt.xticks(rotation=0)  \n",
    "plt.grid(axis='y', linestyle='--', alpha=0.7)\n",
    "plt.tight_layout()\n",
    "\n",
    "plt.show()"
   ]
  }
 ],
 "metadata": {
  "kaggle": {
   "accelerator": "none",
   "dataSources": [
    {
     "datasetId": 4694094,
     "sourceId": 7976240,
     "sourceType": "datasetVersion"
    }
   ],
   "dockerImageVersionId": 30673,
   "isGpuEnabled": false,
   "isInternetEnabled": false,
   "language": "python",
   "sourceType": "notebook"
  },
  "kernelspec": {
   "display_name": "Python 3",
   "language": "python",
   "name": "python3"
  },
  "language_info": {
   "codemirror_mode": {
    "name": "ipython",
    "version": 3
   },
   "file_extension": ".py",
   "mimetype": "text/x-python",
   "name": "python",
   "nbconvert_exporter": "python",
   "pygments_lexer": "ipython3",
   "version": "3.10.13"
  },
  "papermill": {
   "default_parameters": {},
   "duration": 75.090557,
   "end_time": "2024-03-31T19:59:22.270275",
   "environment_variables": {},
   "exception": null,
   "input_path": "__notebook__.ipynb",
   "output_path": "__notebook__.ipynb",
   "parameters": {},
   "start_time": "2024-03-31T19:58:07.179718",
   "version": "2.5.0"
  }
 },
 "nbformat": 4,
 "nbformat_minor": 5
}
